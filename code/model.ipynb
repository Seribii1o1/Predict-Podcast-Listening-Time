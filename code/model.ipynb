{
 "cells": [
  {
   "cell_type": "code",
   "execution_count": 12,
   "metadata": {},
   "outputs": [
    {
     "name": "stdout",
     "output_type": "stream",
     "text": [
      "Requirement already satisfied: xgboost in /opt/anaconda3/lib/python3.12/site-packages (3.0.0)\n",
      "Requirement already satisfied: numpy in /opt/anaconda3/lib/python3.12/site-packages (from xgboost) (1.26.4)\n",
      "Requirement already satisfied: scipy in /opt/anaconda3/lib/python3.12/site-packages (from xgboost) (1.13.1)\n",
      "Note: you may need to restart the kernel to use updated packages.\n"
     ]
    }
   ],
   "source": [
    "pip install xgboost"
   ]
  },
  {
   "cell_type": "code",
   "execution_count": 13,
   "metadata": {},
   "outputs": [],
   "source": [
    "import pandas as pd\n",
    "import numpy as np\n",
    "\n",
    "from xgboost import XGBRegressor\n",
    "from sklearn.ensemble import RandomForestRegressor\n",
    "from sklearn.model_selection import train_test_split\n",
    "from sklearn.metrics import mean_squared_error\n",
    "from sklearn.model_selection import RandomizedSearchCV"
   ]
  },
  {
   "cell_type": "code",
   "execution_count": 14,
   "metadata": {},
   "outputs": [
    {
     "name": "stdout",
     "output_type": "stream",
     "text": [
      "<class 'pandas.core.frame.DataFrame'>\n",
      "RangeIndex: 749947 entries, 0 to 749946\n",
      "Data columns (total 31 columns):\n",
      " #   Column                       Non-Null Count   Dtype  \n",
      "---  ------                       --------------   -----  \n",
      " 0   Episode_Title                749947 non-null  float64\n",
      " 1   Episode_Length_minutes       662860 non-null  float64\n",
      " 2   Host_Popularity_percentage   749947 non-null  float64\n",
      " 3   Guest_Popularity_percentage  749947 non-null  float64\n",
      " 4   Number_of_Ads                749947 non-null  float64\n",
      " 5   Listening_Time_minutes       749947 non-null  float64\n",
      " 6   Top_Podcast                  749947 non-null  float64\n",
      " 7   Genre_Business               749947 non-null  bool   \n",
      " 8   Genre_Comedy                 749947 non-null  bool   \n",
      " 9   Genre_Education              749947 non-null  bool   \n",
      " 10  Genre_Health                 749947 non-null  bool   \n",
      " 11  Genre_Lifestyle              749947 non-null  bool   \n",
      " 12  Genre_Music                  749947 non-null  bool   \n",
      " 13  Genre_News                   749947 non-null  bool   \n",
      " 14  Genre_Sports                 749947 non-null  bool   \n",
      " 15  Genre_Technology             749947 non-null  bool   \n",
      " 16  Genre_True Crime             749947 non-null  bool   \n",
      " 17  Publication_Day_Friday       749947 non-null  bool   \n",
      " 18  Publication_Day_Monday       749947 non-null  bool   \n",
      " 19  Publication_Day_Saturday     749947 non-null  bool   \n",
      " 20  Publication_Day_Sunday       749947 non-null  bool   \n",
      " 21  Publication_Day_Thursday     749947 non-null  bool   \n",
      " 22  Publication_Day_Tuesday      749947 non-null  bool   \n",
      " 23  Publication_Day_Wednesday    749947 non-null  bool   \n",
      " 24  Publication_Time_Afternoon   749947 non-null  bool   \n",
      " 25  Publication_Time_Evening     749947 non-null  bool   \n",
      " 26  Publication_Time_Morning     749947 non-null  bool   \n",
      " 27  Publication_Time_Night       749947 non-null  bool   \n",
      " 28  Episode_Sentiment_Negative   749947 non-null  bool   \n",
      " 29  Episode_Sentiment_Neutral    749947 non-null  bool   \n",
      " 30  Episode_Sentiment_Positive   749947 non-null  bool   \n",
      "dtypes: bool(24), float64(7)\n",
      "memory usage: 57.2 MB\n"
     ]
    }
   ],
   "source": [
    "# Load csv file\n",
    "df = pd.read_csv('/Users/sa26/Documents/GitHub/Predict-Podcast-Listening-Time/data/processed/processed_train.csv')\n",
    "\n",
    "df.info()"
   ]
  },
  {
   "cell_type": "code",
   "execution_count": 15,
   "metadata": {},
   "outputs": [
    {
     "name": "stdout",
     "output_type": "stream",
     "text": [
      "XGBoost MSE: 170.0925087453645\n",
      "Random Forest MSE: 160.23212858005616\n"
     ]
    }
   ],
   "source": [
    "# Prepare data\n",
    "X = df.drop('Listening_Time_minutes', axis=1)\n",
    "y = df['Listening_Time_minutes']\n",
    "\n",
    "# Split data\n",
    "X_train, X_test, y_train, y_test = train_test_split(X, y, test_size=0.2, random_state=42)\n",
    "\n",
    "# XGBoost Regressor\n",
    "xgb = XGBRegressor()\n",
    "xgb.fit(X_train, y_train)\n",
    "xgb_mse = mean_squared_error(y_test, xgb.predict(X_test))\n",
    "print(f\"XGBoost MSE: {xgb_mse}\")\n",
    "\n",
    "# Random Forest Regressor\n",
    "rf = RandomForestRegressor()\n",
    "rf.fit(X_train, y_train)\n",
    "rf_mse = mean_squared_error(y_test, rf.predict(X_test))\n",
    "print(f\"Random Forest MSE: {rf_mse}\")"
   ]
  },
  {
   "cell_type": "markdown",
   "metadata": {},
   "source": [
    "Random Forest performed better. Will use hyperparameter tuning to improve performance. The Kaggle competition 1st place had a calculated MSE of ~132.4 for reference."
   ]
  },
  {
   "cell_type": "code",
   "execution_count": 16,
   "metadata": {},
   "outputs": [
    {
     "name": "stdout",
     "output_type": "stream",
     "text": [
      "XGBoost MSE after tuning: 169.68827035558482\n",
      "XGBoost Best Parameters: {'subsample': 1.0, 'n_estimators': 300, 'max_depth': 5, 'learning_rate': 0.2, 'gamma': 0.1, 'colsample_bytree': 1.0}\n"
     ]
    }
   ],
   "source": [
    "# Define hyperparameter grid for XGBoost\n",
    "xgb_param_grid = {\n",
    "    'n_estimators': [100, 200, 300],\n",
    "    'learning_rate': [0.01, 0.1, 0.2],\n",
    "    'max_depth': [3, 4, 5],\n",
    "    'gamma': [0, 0.1, 0.2],\n",
    "    'subsample': [0.8, 1.0],\n",
    "    'colsample_bytree': [0.8, 1.0]\n",
    "}\n",
    "\n",
    "# Randomized Search for XGBoost\n",
    "xgb_search = RandomizedSearchCV(xgb, xgb_param_grid, n_iter=200, cv=3, random_state=42, n_jobs=-1, scoring='neg_mean_squared_error')\n",
    "xgb_search.fit(X_train, y_train)\n",
    "\n",
    "# Best XGBoost model\n",
    "best_xgb = xgb_search.best_estimator_\n",
    "xgb_mse = mean_squared_error(y_test, best_xgb.predict(X_test))\n",
    "print(f\"XGBoost MSE after tuning: {xgb_mse}\")\n",
    "print(f\"XGBoost Best Parameters: {xgb_search.best_params_}\")"
   ]
  },
  {
   "cell_type": "markdown",
   "metadata": {},
   "source": [
    "The XGBoost did not improve much after hypertuning.\n",
    "I used the following code for hyperparameter tuning Random Forest. I had to stop since it was still loading after one hour!\n",
    "\n",
    "Define hyperparameter grid for Random Forest\n",
    "\n",
    "rf_param_grid = {\n",
    "    'n_estimators': [100, 200, 300],\n",
    "    'max_depth': [None, 10, 20, 30],\n",
    "    'min_samples_split': [2, 5, 10],\n",
    "    'min_samples_leaf': [1, 2, 4]\n",
    "}\n",
    "\n",
    "Randomized Search for Random Forest\n",
    "\n",
    "rf_search = RandomizedSearchCV(rf, rf_param_grid, n_iter=50, cv=3, random_state=42, n_jobs=-1, scoring='neg_mean_squared_error')\n",
    "rf_search.fit(X_train, y_train)\n",
    "\n",
    "Best Random Forest model\n",
    "\n",
    "best_rf = rf_search.best_estimator_\n",
    "rf_mse = mean_squared_error(y_test, best_rf.predict(X_test))\n",
    "print(f\"Random Forest MSE after tuning: {rf_mse}\")\n",
    "print(f\"Random Forest Best Parameters: {rf_search.best_params_}\")"
   ]
  }
 ],
 "metadata": {
  "kernelspec": {
   "display_name": "base",
   "language": "python",
   "name": "python3"
  },
  "language_info": {
   "codemirror_mode": {
    "name": "ipython",
    "version": 3
   },
   "file_extension": ".py",
   "mimetype": "text/x-python",
   "name": "python",
   "nbconvert_exporter": "python",
   "pygments_lexer": "ipython3",
   "version": "3.12.7"
  }
 },
 "nbformat": 4,
 "nbformat_minor": 2
}
